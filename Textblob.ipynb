{
  "nbformat": 4,
  "nbformat_minor": 0,
  "metadata": {
    "colab": {
      "provenance": [],
      "include_colab_link": true
    },
    "kernelspec": {
      "name": "python3",
      "display_name": "Python 3"
    },
    "language_info": {
      "name": "python"
    }
  },
  "cells": [
    {
      "cell_type": "markdown",
      "metadata": {
        "id": "view-in-github",
        "colab_type": "text"
      },
      "source": [
        "<a href=\"https://colab.research.google.com/github/ajmunerau/Prueba-1/blob/main/Textblob.ipynb\" target=\"_parent\"><img src=\"https://colab.research.google.com/assets/colab-badge.svg\" alt=\"Open In Colab\"/></a>"
      ]
    },
    {
      "cell_type": "markdown",
      "source": [
        "# Textblob, módulo para tareas de PLN (Procesamiento de lenguaje Natural)\n",
        "\n",
        "textblob es una librería de procesamiento del texto para Python que permite realizar tareas de Procesamiento del Lenguaje Natural como análisis morfológico, extracción de entidades, análisis de opinión, traducción automática, etc.\n"
      ],
      "metadata": {
        "id": "DIO8Ks5rYvwG"
      }
    },
    {
      "cell_type": "code",
      "source": [
        "! pip install textblob"
      ],
      "metadata": {
        "colab": {
          "base_uri": "https://localhost:8080/"
        },
        "id": "RqvzF5_SamEe",
        "outputId": "ea2aa9ff-156f-4f07-c6c8-c024c5fb627d"
      },
      "execution_count": null,
      "outputs": [
        {
          "output_type": "stream",
          "name": "stdout",
          "text": [
            "Requirement already satisfied: textblob in /usr/local/lib/python3.10/dist-packages (0.17.1)\n",
            "Requirement already satisfied: nltk>=3.1 in /usr/local/lib/python3.10/dist-packages (from textblob) (3.8.1)\n",
            "Requirement already satisfied: click in /usr/local/lib/python3.10/dist-packages (from nltk>=3.1->textblob) (8.1.7)\n",
            "Requirement already satisfied: joblib in /usr/local/lib/python3.10/dist-packages (from nltk>=3.1->textblob) (1.3.2)\n",
            "Requirement already satisfied: regex>=2021.8.3 in /usr/local/lib/python3.10/dist-packages (from nltk>=3.1->textblob) (2023.6.3)\n",
            "Requirement already satisfied: tqdm in /usr/local/lib/python3.10/dist-packages (from nltk>=3.1->textblob) (4.66.1)\n"
          ]
        }
      ]
    },
    {
      "cell_type": "markdown",
      "source": [
        "# Usemos la librería textblob para realizar algunas traducciones"
      ],
      "metadata": {
        "id": "ntf8k5lkbInD"
      }
    },
    {
      "cell_type": "code",
      "source": [
        "from textblob import TextBlob\n",
        "\n",
        "# de chino a inglés y español\n",
        "oracion_zh = \"中国探月工程 亦稱嫦娥工程，是中国启动的第一个探月工程，于2003年3月1日正式启动\"\n",
        "t_zh = TextBlob(oracion_zh)\n",
        "print(t_zh.translate(from_lang=\"zh-CN\", to=\"en\"))\n",
        "print(t_zh.translate(from_lang=\"zh-CN\", to=\"es\"))\n",
        "\n",
        "# de ruso a inglés y español\n",
        "\n",
        "oracion_ru = \"В 1943 году была отправлена в США, где выступала в защиту британской «белой книги», после чего работала в Канаде и Индии.\"\n",
        "t_ru = TextBlob(oracion_ru)\n",
        "print(t_ru.translate(from_lang=\"ru\", to=\"en\"))\n",
        "print(t_ru.translate(from_lang=\"ru\", to=\"es\"))\n",
        "\n",
        "print(\"--------------\")"
      ],
      "metadata": {
        "colab": {
          "base_uri": "https://localhost:8080/"
        },
        "id": "zafSR__1avuU",
        "outputId": "eaecb0be-937f-4c42-b9a8-cb4dec4fab2b"
      },
      "execution_count": null,
      "outputs": [
        {
          "output_type": "stream",
          "name": "stdout",
          "text": [
            "The Chinese lunar exploration project is also known as the Chang'e project. It is the first lunar exploration project launched by China. It was officially launched on March 1, 2003\n",
            "El Proyecto de Exploración Lunar China también se conoce como el Proyecto Chang'e. Es el primer proyecto de exploración lunar lanzado por China. Se lanzó oficialmente el 1 de marzo de 2003\n",
            "In 1943 she was sent to the United States, where she spoke in defense of the British “White Book”, after which she worked in Canada and India.\n",
            "En 1943, fue enviada a los Estados Unidos, donde habló en defensa del libro blanco británico, después de lo cual trabajó en Canadá e India.\n",
            "--------------\n"
          ]
        }
      ]
    },
    {
      "cell_type": "markdown",
      "source": [
        "## Análisis de opinión"
      ],
      "metadata": {
        "id": "mhCGwxRPblvM"
      }
    },
    {
      "cell_type": "code",
      "source": [
        "# análisis de opinión\n",
        "opinion1 = TextBlob(\"This new restaurant is great. I had so much fun!! :-P\")\n",
        "print(opinion1.sentiment)\n",
        "\n",
        "# subjetividad 0:1\n",
        "# polaridad -1:1\n",
        "# Polaridad hace referencia a que tan positivo o negativo es el texto de entrada,\n",
        "# donde -1 corresponde a más negativo y + 1 a más positiva. Subjetividad,\n",
        "# mide el grado de subjetividad de la frase 0 muy subjetiva y 1 más objetiva\n",
        "\n",
        "print(opinion1.sentiment.polarity)\n",
        "\n",
        "if opinion1.sentiment.subjectivity > 0.5:\n",
        "    print(\"Hey, esto es una opinion (subjetivo)\")\n",
        "\n",
        "print('-----------------------------')\n",
        "opinion2 = TextBlob(\"I hate getting up in the morning.\")\n",
        "print(opinion2.sentiment.polarity)\n",
        "print(opinion2.sentiment)\n",
        "\n",
        "if opinion2.sentiment.polarity < 0.5:\n",
        "    print(\"Es un sentimiento negativo\")"
      ],
      "metadata": {
        "colab": {
          "base_uri": "https://localhost:8080/"
        },
        "id": "mRj3vb0kbqKU",
        "outputId": "50a457de-fa5b-4465-abf0-4b7d8ae84aea"
      },
      "execution_count": null,
      "outputs": [
        {
          "output_type": "stream",
          "name": "stdout",
          "text": [
            "Sentiment(polarity=0.5387784090909091, subjectivity=0.6011363636363636)\n",
            "0.5387784090909091\n",
            "Hey, esto es una opinion (subjetivo)\n",
            "-----------------------------\n",
            "-0.8\n",
            "Sentiment(polarity=-0.8, subjectivity=0.9)\n",
            "Es un sentimiento negativo\n"
          ]
        }
      ]
    },
    {
      "cell_type": "markdown",
      "source": [
        "# Corrección Ortográfica"
      ],
      "metadata": {
        "id": "z-30b4pAdGpG"
      }
    },
    {
      "cell_type": "code",
      "source": [
        "#  corrección ortográfica\n",
        "b1 = TextBlob(\"I havv goood speling!\")\n",
        "print(b1.correct())\n",
        "\n",
        "b2 = TextBlob(\"My naem iz Jonh!\")\n",
        "print(b2.correct())\n",
        "\n",
        "b3 = TextBlob(\"Boyz dont cri\")\n",
        "print(b3.correct())\n",
        "\n",
        "b4 = TextBlob(\"psicological posesion achifmen comitment\")\n",
        "print(b4.correct())"
      ],
      "metadata": {
        "colab": {
          "base_uri": "https://localhost:8080/"
        },
        "id": "Iyw1sxY2dLG0",
        "outputId": "0483d742-5b8d-4055-e3f3-b20a6173aea1"
      },
      "execution_count": null,
      "outputs": [
        {
          "output_type": "stream",
          "name": "stdout",
          "text": [
            "I have good spelling!\n",
            "By name in On!\n",
            "Boy dont cry\n",
            "psychological position achifmen commitment\n"
          ]
        }
      ]
    }
  ]
}